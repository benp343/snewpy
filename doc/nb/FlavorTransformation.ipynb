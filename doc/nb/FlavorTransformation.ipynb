{
 "cells": [
  {
   "cell_type": "markdown",
   "metadata": {},
   "source": [
    "# Flavor Transformations\n",
    "\n",
    "This notebook produces the figures in the SNEWPY paper showing the effect of the flavor transformation prescriptions upon the nakazato-shen-z0.004-t_rev100ms-s20.0 model "
   ]
  },
  {
   "cell_type": "code",
   "execution_count": 1,
   "metadata": {},
   "outputs": [],
   "source": [
    "import matplotlib as mpl\n",
    "import matplotlib.pyplot as plt\n",
    "import numpy as np\n",
    "\n",
    "from astropy import units as u \n",
    "\n",
    "from snewpy.neutrino import Flavor, MassHierarchy, MixingParameters\n",
    "from snewpy.models.ccsn import Nakazato_2013\n",
    "from snewpy.models.presn import Patton_2017\n",
    "from snewpy.flavor_transformation import AdiabaticMSW, NonAdiabaticMSWH, \\\n",
    "                                         TwoFlavorDecoherence, ThreeFlavorDecoherence, \\\n",
    "                                         NeutrinoDecay, AdiabaticMSWes, NonAdiabaticMSWes\n"
   ]
  },
  {
   "cell_type": "code",
   "execution_count": 2,
   "metadata": {},
   "outputs": [],
   "source": [
    "mpl.rc('font', size=18)"
   ]
  },
  {
   "cell_type": "code",
   "execution_count": 2,
   "metadata": {},
   "outputs": [],
   "source": [
    "nfile = '../../models/Nakazato_2013/nakazato-shen-z0.004-t_rev100ms-s20.0.fits'\n",
    "n = Nakazato_2013(nfile)\n",
    "pfile = '../../models/presn-models/models/Patton_2017/totalLuminosity_15SolarMass.dat'\n",
    "p = Patton_2017(pfile)"
   ]
  },
  {
   "cell_type": "code",
   "execution_count": 4,
   "metadata": {},
   "outputs": [
    {
     "name": "stdout",
     "output_type": "stream",
     "text": [
      "Nakazato_2013 Model: nakazato-shen-z0.004-t_rev100ms-s20.0.fits\n",
      "Progenitor mass  : 20.0 solMass\n",
      "EOS              : SHEN\n",
      "Metallicity      : 0.004\n",
      "Revival time     : 100.0 ms \n",
      "\n",
      " Patton_2017 Model: totalLuminosity_15SolarMass\n",
      "Progenitor Mass  : 15.0 solMass\n"
     ]
    }
   ],
   "source": [
    "print(n, '\\n\\n', p)"
   ]
  },
  {
   "cell_type": "code",
   "execution_count": 4,
   "metadata": {},
   "outputs": [
    {
     "name": "stdout",
     "output_type": "stream",
     "text": [
      "1.6317e-05 h\n",
      "[1.00000000e-10 9.38026515e+52 8.33073262e+51] 1 / (MeV s)\n",
      "[1.00000000e-10 8.84431778e+51 2.81924242e+50] 1 / (MeV s)\n",
      "[1.00000000e-10 1.46542076e+51 8.04701432e+49] 1 / (MeV s)\n",
      "[1.00000000e-10 1.42735514e+51 7.40122789e+49] 1 / (MeV s)\n",
      "\n",
      "\n",
      "\n",
      "0.00066899 h\n",
      "[1.00000000e-10 3.63248332e+52 2.14408699e+51] 1 / (MeV s)\n",
      "[1.00000000e-10 8.50368588e+51 1.31529590e+50] 1 / (MeV s)\n",
      "[1.0000000e-10 1.0078567e+51 3.7108284e+49] 1 / (MeV s)\n",
      "[1.00000000e-10 9.75597174e+50 3.41780470e+49] 1 / (MeV s)\n",
      "\n",
      "\n",
      "\n"
     ]
    }
   ],
   "source": [
    "model = p\n",
    "energies = np.linspace(0,6,3) * u.MeV    \n",
    "d = (10*u.kpc).to('cm').value # distance to SN\n",
    "    \n",
    "times = model.get_time()\n",
    "# burst_epoch = times <= 0.1*u.s\n",
    "# accretion_epoch = (times > 0.1*u.s) & (times <= 0.5*u.s)\n",
    "# cooling_epoch = (times > 0.5*u.s) & (times <= 10*u.s)\n",
    "\n",
    "ilum = {}\n",
    "olum_nmo = {}\n",
    "olum_imo = {}\n",
    "\n",
    "for flavor in Flavor:\n",
    "    ilum[flavor] = np.zeros(len(times))\n",
    "    olum_nmo[flavor] = np.zeros(len(times))\n",
    "    olum_imo[flavor] = np.zeros(len(times))\n",
    "\n",
    "# Compute the transformed and untransformed flux at each time.\n",
    "for i, t in enumerate(times[1:3]):\n",
    "    ispec = model.get_initial_spectra(t, energies)\n",
    "    print(f\"{t}\\n{ispec[Flavor.NU_E]}\\n{ispec[Flavor.NU_E_BAR]}\\n{ispec[Flavor.NU_X]}\\n{ispec[Flavor.NU_X_BAR]}\\n\\n\\n\")\n"
   ]
  },
  {
   "cell_type": "markdown",
   "metadata": {},
   "source": [
    "## Transformed and untransformed energy integrated flux at Earth\n",
    "\n",
    "Compute and plot the flux at Earth for a SN at 10 kpc with no flavor transformation, and with the chosen flavor transformation."
   ]
  },
  {
   "cell_type": "code",
   "execution_count": 8,
   "metadata": {},
   "outputs": [],
   "source": [
    "def plot_total_flux(model, xform_nmo, xform_imo):\n",
    "    \"\"\"Plot initial and oscillated neutrino luminosities.\n",
    "    \n",
    "    Parameters\n",
    "    ----------\n",
    "    model : SupernovaModel\n",
    "        An input model from a CCSN simulation.\n",
    "    flav_xform : FlavorTransformation\n",
    "        A FlavorTransformation subclass; used to create an instance.\n",
    "    \"\"\"\n",
    "    \n",
    "    energies = np.linspace(0,60,121) * u.MeV    \n",
    "    d = (10*u.kpc).to('cm').value # distance to SN\n",
    "        \n",
    "    times = model.get_time()\n",
    "    burst_epoch = times <= 0.1*u.s\n",
    "    accretion_epoch = (times > 0.1*u.s) & (times <= 0.5*u.s)\n",
    "    cooling_epoch = (times > 0.5*u.s) & (times <= 10*u.s)\n",
    "    # the following epochs are for Patton_2017\n",
    "    burst_epoch = times <= 0.1*u.hour\n",
    "    accretion_epoch = (times > 0.1*u.hour) & (times <= 2*u.hour)\n",
    "    cooling_epoch = times > 2*u.hour\n",
    "    \n",
    "    ilum = {}\n",
    "    olum_nmo = {}\n",
    "    olum_imo = {}\n",
    "    \n",
    "    for flavor in Flavor:\n",
    "        ilum[flavor] = np.zeros(len(times))\n",
    "        olum_nmo[flavor] = np.zeros(len(times))\n",
    "        olum_imo[flavor] = np.zeros(len(times))\n",
    "\n",
    "    # Compute the transformed and untransformed flux at each time.\n",
    "    for i, t in enumerate(times):\n",
    "        ispec = model.get_initial_spectra(t, energies)\n",
    "        ospec_nmo = model.get_transformed_spectra(t, energies, xform_nmo)\n",
    "        ospec_imo = model.get_transformed_spectra(t, energies, xform_imo)\n",
    "\n",
    "        for flavor in Flavor:\n",
    "            for j, E in enumerate(energies):\n",
    "                ispec[flavor][j] /= (4.*np.pi*d**2)\n",
    "                ospec_nmo[flavor][j] /= (4.*np.pi*d**2)\n",
    "                ospec_imo[flavor][j] /= (4.*np.pi*d**2)\n",
    "        \n",
    "        for flavor in Flavor:\n",
    "            ilum[flavor][i] = np.trapz(ispec[flavor].to('1/(erg*s)'), energies.to('erg')).value \n",
    "            olum_nmo[flavor][i] = np.trapz(ospec_nmo[flavor].to('1/(erg*s)'), energies.to('erg')).value\n",
    "            olum_imo[flavor][i] = np.trapz(ospec_imo[flavor].to('1/(erg*s)'), energies.to('erg')).value            \n",
    "            \n",
    "    # make the figures \n",
    "    fig, axes = plt.subplots(3,3, figsize=(20,12), tight_layout=True)\n",
    "    \n",
    "    smax = [0.,0.,0.]\n",
    "    titles = ['Untransformed', 'Transformed (NMO)', 'Transformed (IMO)']\n",
    "    for i, spec in enumerate([ilum, olum_nmo, olum_imo]):\n",
    "        for j, phase in enumerate([burst_epoch, accretion_epoch, cooling_epoch]):\n",
    "            ax = axes[i,j]\n",
    "            timeunits = 'ms' if j==0 else 's'\n",
    "                \n",
    "            for flavor in Flavor:\n",
    "                if i == 0:\n",
    "                    print(j, phase, spec[flavor])\n",
    "                    smax[j] = np.maximum(smax[j], 1.1*np.max(spec[flavor][phase]))\n",
    "                    \n",
    "                ax.plot(times[phase].to(timeunits),\n",
    "                        spec[flavor][phase], label=flavor.to_tex(), lw=3,\n",
    "                        color='C0' if flavor.is_electron else 'C1',\n",
    "                        ls='-' if flavor.is_neutrino else ':')\n",
    "            \n",
    "            ax.set(xlim=(times[phase][0].to(timeunits).value, times[phase][-1].to(timeunits).value),\n",
    "                   ylim=(0, smax[j]))\n",
    "            \n",
    "            if j==0:\n",
    "               ax.set(ylabel=r'flux [$10^{16}$ erg$^{-1}$ cm$^{-2}$ s$^{-1}$]')\n",
    "               ax.legend(loc='upper right', ncol=1, fontsize=18)\n",
    "            if j==1:\n",
    "                ax.set(title=titles[i])\n",
    "            if i < 2:\n",
    "                ax.set(xticklabels=[])\n",
    "            else:\n",
    "                ax.set(xlabel='time [{}]'.format(timeunits))\n",
    "            \n",
    "            ax.grid(ls=':')\n",
    "\n",
    "      \n",
    "    return fig"
   ]
  },
  {
   "cell_type": "markdown",
   "metadata": {},
   "source": [
    "## Untransformed and Transformed Spectra at Earth\n",
    "\n",
    "Compute and plot the spectra at Earth for a SN at 10 kpc with no flavor transformation, and with the chosen flavor transformation."
   ]
  },
  {
   "cell_type": "code",
   "execution_count": 6,
   "metadata": {},
   "outputs": [],
   "source": [
    "def plot_spectra(model, xform_nmo, xform_imo, t):\n",
    "    \"\"\"Plot initial and oscillated neutrino luminosities.\n",
    "    \n",
    "    Parameters\n",
    "    ----------\n",
    "    model : SupernovaModel\n",
    "        An input model from a CCSN simulation.\n",
    "    flav_xform : FlavorTransformation\n",
    "        A FlavorTransformation subclass; used to create an instance.\n",
    "    t : astropy.Quantity\n",
    "        Time to compute the spectrum.\n",
    "    \"\"\"\n",
    "\n",
    "    energies = np.linspace(0,60,121) * u.MeV   \n",
    "    d = (10*u.kpc).to('cm').value # distance to SN\n",
    "\n",
    "    #get the spectra\n",
    "    ispec = model.get_initial_spectra(t, energies) \n",
    "    ospec_nmo = model.get_transformed_spectra(t, energies, xform_nmo)\n",
    "    ospec_imo = model.get_transformed_spectra(t, energies, xform_imo)\n",
    "\n",
    "    for flavor in Flavor:\n",
    "        for j, E in enumerate(energies):\n",
    "            ispec[flavor][j] /= (4.*np.pi*d**2)\n",
    "            ospec_nmo[flavor][j] /= (4.*np.pi*d**2)\n",
    "            ospec_imo[flavor][j] /= (4.*np.pi*d**2)\n",
    "    \n",
    "    fig, axes = plt.subplots(2,2, figsize=(18,15), sharex=True, sharey=True, tight_layout=True)\n",
    "\n",
    "    for i, spec in enumerate([ispec, ospec_nmo]):\n",
    "        axes[0][0].plot(energies, spec[Flavor.NU_E]/1e16, \n",
    "                    label='Untransformed '+Flavor.NU_E.to_tex() if i==0 else 'Transformed '+Flavor.NU_E.to_tex(),\n",
    "                    color='C0', ls='-' if i==0 else ':', lw=2,  alpha=0.7)\n",
    "        axes[0][0].plot(energies, spec[Flavor.NU_X]/1e16, \n",
    "                    label='Untransformed '+Flavor.NU_X.to_tex() if i==0 else 'Transformed '+Flavor.NU_X.to_tex(),\n",
    "                    color='C1', ls='-' if i==0 else ':', lw=2,  alpha=0.7)\n",
    "\n",
    "        axes[0][0].set(title='Neutrinos in the NMO: $t = ${:.1f}'.format(t))\n",
    "        axes[0][0].grid()\n",
    "        axes[0][0].legend(loc='upper right', ncol=2, fontsize=16)\n",
    "    \n",
    "        axes[0][1].plot(energies, spec[Flavor.NU_E_BAR]/1e16, \n",
    "                    label='Untransformed '+Flavor.NU_E_BAR.to_tex() if i==0 else 'Transformed '+Flavor.NU_E_BAR.to_tex(),\n",
    "                    color='C0', ls='-' if i==0 else ':', lw=2,  alpha=0.7)\n",
    "        axes[0][1].plot(energies, spec[Flavor.NU_X_BAR]/1e16, \n",
    "                    label='Untransformed '+Flavor.NU_X_BAR.to_tex() if i==0 else 'Transformed '+Flavor.NU_X_BAR.to_tex(),\n",
    "                    color='C1', ls='-' if i==0 else ':', lw=2,  alpha=0.7)\n",
    "\n",
    "        axes[0][1].set(title='Antineutrinos in the NMO: $t = ${:.1f}'.format(t)) \n",
    "        axes[0][1].grid()\n",
    "        axes[0][1].legend(loc='upper right', ncol=2, fontsize=16)    \n",
    "    \n",
    "    for i, spec in enumerate([ispec, ospec_imo]):\n",
    "        axes[1][0].plot(energies, spec[Flavor.NU_E]/1e16, \n",
    "                    label='Untransformed '+Flavor.NU_E.to_tex() if i==0 else 'Transformed '+Flavor.NU_E.to_tex(),\n",
    "                    color='C0', ls='-' if i==0 else ':', lw=2,  alpha=0.7)\n",
    "        axes[1][0].plot(energies, spec[Flavor.NU_X]/1e16, \n",
    "                    label='Untransformed '+Flavor.NU_X.to_tex() if i==0 else 'Transformed '+Flavor.NU_X.to_tex(),\n",
    "                    color='C1', ls='-' if i==0 else ':', lw=2,  alpha=0.7)\n",
    "\n",
    "        axes[1][0].set(xlabel=r'$E$ [{}]'.format(energies.unit), title='Neutrinos in the IMO: $t = ${:.1f}'.format(t))\n",
    "        axes[1][0].grid()\n",
    "        axes[1][0].legend(loc='upper right', ncol=2, fontsize=16)\n",
    "    \n",
    "        axes[1][1].plot(energies, spec[Flavor.NU_E_BAR]/1e16, \n",
    "                    label='Untransformed '+Flavor.NU_E_BAR.to_tex() if i==0 else 'Transformed '+Flavor.NU_E_BAR.to_tex(),\n",
    "                    color='C0', ls='-' if i==0 else ':', lw=2,  alpha=0.7)\n",
    "        axes[1][1].plot(energies, spec[Flavor.NU_X_BAR]/1e16, \n",
    "                    label='Untransformed '+Flavor.NU_X_BAR.to_tex() if i==0 else 'Transformed '+Flavor.NU_X_BAR.to_tex(),\n",
    "                    color='C1', ls='-' if i==0 else ':', lw=2,  alpha=0.7)\n",
    "\n",
    "        axes[1][1].set(xlabel=r'$E$ [{}]'.format(energies.unit), title='Antineutrinos in the IMO: $t = ${:.1f}'.format(t))\n",
    "        axes[1][1].grid()\n",
    "        axes[1][1].legend(loc='upper right', ncol=2, fontsize=18)    \n",
    "\n",
    "    ax = axes[0][0]\n",
    "    ax.set(ylabel=r'flux [$10^{16}$ erg$^{-1}$ cm$^{-2}$ s$^{-1}$]')\n",
    "    ax = axes[1][0]\n",
    "    ax.set(ylabel=r'flux [$10^{16}$ erg$^{-1}$ cm$^{-2}$ s$^{-1}$]')\n",
    "    \n",
    "    return fig\n",
    "\n"
   ]
  },
  {
   "cell_type": "code",
   "execution_count": 9,
   "metadata": {},
   "outputs": [
    {
     "name": "stdout",
     "output_type": "stream",
     "text": [
      "0 [ True  True False False False False False False False False False False\n",
      " False False False False False False False False False False False] [4.48490168e+08 2.95664352e+07 1.20130484e+07 4.94097754e+06\n",
      " 3.99610124e+06 2.89927133e+06 2.16975112e+06 1.03250592e+06\n",
      " 7.34851809e+05 5.60821789e+05 3.10235879e+05 2.24197336e+05\n",
      " 1.63731250e+05 1.45479249e+05 1.25626043e+05 1.15965481e+05\n",
      " 1.09425381e+05 1.28999471e+05 2.10315763e+05 7.29043580e+04\n",
      " 2.89964096e+04 1.90537909e+03 3.42356370e+01]\n",
      "0 [ True  True False False False False False False False False False False\n",
      " False False False False False False False False False False False] [2.22530804e+06 4.43560490e+06 3.96133902e+06 2.27265185e+06\n",
      " 2.05342226e+06 1.71451169e+06 1.31330433e+06 6.47775940e+05\n",
      " 4.71970901e+05 3.94656837e+05 2.24439155e+05 1.74706342e+05\n",
      " 1.33948003e+05 1.21400225e+05 1.07309083e+05 1.00591712e+05\n",
      " 9.66839832e+04 1.13942292e+05 1.58802365e+05 5.75957258e+04\n",
      " 2.06306065e+04 1.55679622e+03 2.92064584e+01]\n",
      "0 [ True  True False False False False False False False False False False\n",
      " False False False False False False False False False False False] [1.65065437e-55 5.36427423e+05 3.91873672e+05 2.53757694e+05\n",
      " 2.14634250e+05 1.74678163e+05 1.47234925e+05 9.28438294e+04\n",
      " 7.43520603e+04 6.22694825e+04 4.14926603e+04 3.26915679e+04\n",
      " 2.57868978e+04 2.35361684e+04 2.08324624e+04 1.95910041e+04\n",
      " 1.87700581e+04 2.14338998e+04 2.92707636e+04 1.20974946e+04\n",
      " 4.39380604e+03 3.30734514e+02 5.66691793e+00]\n",
      "0 [ True  True False False False False False False False False False False\n",
      " False False False False False False False False False False False] [1.65065437e-55 5.36491950e+05 3.91913614e+05 2.53796093e+05\n",
      " 2.14672695e+05 1.74702800e+05 1.47256053e+05 9.28692764e+04\n",
      " 7.43736257e+04 6.22883242e+04 4.15088995e+04 3.27082717e+04\n",
      " 2.58009347e+04 2.35495751e+04 2.08452797e+04 1.96038269e+04\n",
      " 1.87826247e+04 2.14457050e+04 2.92860964e+04 1.21065720e+04\n",
      " 4.39852853e+03 3.31328958e+02 5.70919316e+00]\n",
      "1 [False False False False False False False False False False False False\n",
      " False False False False False False False False False False False] [4.48490168e+08 2.95664352e+07 1.20130484e+07 4.94097754e+06\n",
      " 3.99610124e+06 2.89927133e+06 2.16975112e+06 1.03250592e+06\n",
      " 7.34851809e+05 5.60821789e+05 3.10235879e+05 2.24197336e+05\n",
      " 1.63731250e+05 1.45479249e+05 1.25626043e+05 1.15965481e+05\n",
      " 1.09425381e+05 1.28999471e+05 2.10315763e+05 7.29043580e+04\n",
      " 2.89964096e+04 1.90537909e+03 3.42356370e+01]\n"
     ]
    },
    {
     "ename": "ValueError",
     "evalue": "zero-size array to reduction operation maximum which has no identity",
     "output_type": "error",
     "traceback": [
      "\u001b[0;31m---------------------------------------------------------------------------\u001b[0m",
      "\u001b[0;31mValueError\u001b[0m                                Traceback (most recent call last)",
      "\u001b[0;32m<ipython-input-9-ce840f0d2a46>\u001b[0m in \u001b[0;36m<module>\u001b[0;34m\u001b[0m\n\u001b[0;32m----> 1\u001b[0;31m \u001b[0mfig\u001b[0m \u001b[0;34m=\u001b[0m \u001b[0mplot_total_flux\u001b[0m\u001b[0;34m(\u001b[0m\u001b[0mmodel\u001b[0m\u001b[0;34m,\u001b[0m \u001b[0mAdiabaticMSW\u001b[0m\u001b[0;34m(\u001b[0m\u001b[0;34m)\u001b[0m\u001b[0;34m,\u001b[0m \u001b[0mAdiabaticMSW\u001b[0m\u001b[0;34m(\u001b[0m\u001b[0mmh\u001b[0m\u001b[0;34m=\u001b[0m\u001b[0mMassHierarchy\u001b[0m\u001b[0;34m.\u001b[0m\u001b[0mINVERTED\u001b[0m\u001b[0;34m)\u001b[0m \u001b[0;34m)\u001b[0m\u001b[0;34m\u001b[0m\u001b[0;34m\u001b[0m\u001b[0m\n\u001b[0m\u001b[1;32m      2\u001b[0m \u001b[0mfig\u001b[0m\u001b[0;34m.\u001b[0m\u001b[0msavefig\u001b[0m\u001b[0;34m(\u001b[0m\u001b[0;34m'flux_adiabaticmsw.pdf'\u001b[0m\u001b[0;34m)\u001b[0m\u001b[0;34m\u001b[0m\u001b[0;34m\u001b[0m\u001b[0m\n\u001b[1;32m      3\u001b[0m \u001b[0mfig\u001b[0m \u001b[0;34m=\u001b[0m \u001b[0mplot_spectra\u001b[0m\u001b[0;34m(\u001b[0m\u001b[0mmodel\u001b[0m\u001b[0;34m,\u001b[0m \u001b[0mAdiabaticMSW\u001b[0m\u001b[0;34m(\u001b[0m\u001b[0;34m)\u001b[0m\u001b[0;34m,\u001b[0m \u001b[0mAdiabaticMSW\u001b[0m\u001b[0;34m(\u001b[0m\u001b[0mmh\u001b[0m\u001b[0;34m=\u001b[0m\u001b[0mMassHierarchy\u001b[0m\u001b[0;34m.\u001b[0m\u001b[0mINVERTED\u001b[0m\u001b[0;34m)\u001b[0m\u001b[0;34m,\u001b[0m \u001b[0;36m100\u001b[0m\u001b[0;34m*\u001b[0m\u001b[0mu\u001b[0m\u001b[0;34m.\u001b[0m\u001b[0mms\u001b[0m\u001b[0;34m)\u001b[0m\u001b[0;34m\u001b[0m\u001b[0;34m\u001b[0m\u001b[0m\n\u001b[1;32m      4\u001b[0m \u001b[0mfig\u001b[0m\u001b[0;34m.\u001b[0m\u001b[0msavefig\u001b[0m\u001b[0;34m(\u001b[0m\u001b[0;34m'spectra_adiabaticmsw.pdf'\u001b[0m\u001b[0;34m)\u001b[0m\u001b[0;34m\u001b[0m\u001b[0;34m\u001b[0m\u001b[0m\n",
      "\u001b[0;32m<ipython-input-8-129d429f3ec2>\u001b[0m in \u001b[0;36mplot_total_flux\u001b[0;34m(model, xform_nmo, xform_imo)\u001b[0m\n\u001b[1;32m     57\u001b[0m                 \u001b[0;32mif\u001b[0m \u001b[0mi\u001b[0m \u001b[0;34m==\u001b[0m \u001b[0;36m0\u001b[0m\u001b[0;34m:\u001b[0m\u001b[0;34m\u001b[0m\u001b[0;34m\u001b[0m\u001b[0m\n\u001b[1;32m     58\u001b[0m                     \u001b[0mprint\u001b[0m\u001b[0;34m(\u001b[0m\u001b[0mj\u001b[0m\u001b[0;34m,\u001b[0m \u001b[0mphase\u001b[0m\u001b[0;34m,\u001b[0m \u001b[0mspec\u001b[0m\u001b[0;34m[\u001b[0m\u001b[0mflavor\u001b[0m\u001b[0;34m]\u001b[0m\u001b[0;34m)\u001b[0m\u001b[0;34m\u001b[0m\u001b[0;34m\u001b[0m\u001b[0m\n\u001b[0;32m---> 59\u001b[0;31m                     \u001b[0msmax\u001b[0m\u001b[0;34m[\u001b[0m\u001b[0mj\u001b[0m\u001b[0;34m]\u001b[0m \u001b[0;34m=\u001b[0m \u001b[0mnp\u001b[0m\u001b[0;34m.\u001b[0m\u001b[0mmaximum\u001b[0m\u001b[0;34m(\u001b[0m\u001b[0msmax\u001b[0m\u001b[0;34m[\u001b[0m\u001b[0mj\u001b[0m\u001b[0;34m]\u001b[0m\u001b[0;34m,\u001b[0m \u001b[0;36m1.1\u001b[0m\u001b[0;34m*\u001b[0m\u001b[0mnp\u001b[0m\u001b[0;34m.\u001b[0m\u001b[0mmax\u001b[0m\u001b[0;34m(\u001b[0m\u001b[0mspec\u001b[0m\u001b[0;34m[\u001b[0m\u001b[0mflavor\u001b[0m\u001b[0;34m]\u001b[0m\u001b[0;34m[\u001b[0m\u001b[0mphase\u001b[0m\u001b[0;34m]\u001b[0m\u001b[0;34m)\u001b[0m\u001b[0;34m)\u001b[0m\u001b[0;34m\u001b[0m\u001b[0;34m\u001b[0m\u001b[0m\n\u001b[0m\u001b[1;32m     60\u001b[0m \u001b[0;34m\u001b[0m\u001b[0m\n\u001b[1;32m     61\u001b[0m                 ax.plot(times[phase].to(timeunits),\n",
      "\u001b[0;32m~/opt/anaconda3/envs/snews/lib/python3.9/site-packages/numpy/core/overrides.py\u001b[0m in \u001b[0;36mamax\u001b[0;34m(*args, **kwargs)\u001b[0m\n",
      "\u001b[0;32m~/opt/anaconda3/envs/snews/lib/python3.9/site-packages/numpy/core/fromnumeric.py\u001b[0m in \u001b[0;36mamax\u001b[0;34m(a, axis, out, keepdims, initial, where)\u001b[0m\n\u001b[1;32m   2789\u001b[0m     \u001b[0;36m5\u001b[0m\u001b[0;34m\u001b[0m\u001b[0;34m\u001b[0m\u001b[0m\n\u001b[1;32m   2790\u001b[0m     \"\"\"\n\u001b[0;32m-> 2791\u001b[0;31m     return _wrapreduction(a, np.maximum, 'max', axis, None, out,\n\u001b[0m\u001b[1;32m   2792\u001b[0m                           keepdims=keepdims, initial=initial, where=where)\n\u001b[1;32m   2793\u001b[0m \u001b[0;34m\u001b[0m\u001b[0m\n",
      "\u001b[0;32m~/opt/anaconda3/envs/snews/lib/python3.9/site-packages/numpy/core/fromnumeric.py\u001b[0m in \u001b[0;36m_wrapreduction\u001b[0;34m(obj, ufunc, method, axis, dtype, out, **kwargs)\u001b[0m\n\u001b[1;32m     84\u001b[0m                 \u001b[0;32mreturn\u001b[0m \u001b[0mreduction\u001b[0m\u001b[0;34m(\u001b[0m\u001b[0maxis\u001b[0m\u001b[0;34m=\u001b[0m\u001b[0maxis\u001b[0m\u001b[0;34m,\u001b[0m \u001b[0mout\u001b[0m\u001b[0;34m=\u001b[0m\u001b[0mout\u001b[0m\u001b[0;34m,\u001b[0m \u001b[0;34m**\u001b[0m\u001b[0mpasskwargs\u001b[0m\u001b[0;34m)\u001b[0m\u001b[0;34m\u001b[0m\u001b[0;34m\u001b[0m\u001b[0m\n\u001b[1;32m     85\u001b[0m \u001b[0;34m\u001b[0m\u001b[0m\n\u001b[0;32m---> 86\u001b[0;31m     \u001b[0;32mreturn\u001b[0m \u001b[0mufunc\u001b[0m\u001b[0;34m.\u001b[0m\u001b[0mreduce\u001b[0m\u001b[0;34m(\u001b[0m\u001b[0mobj\u001b[0m\u001b[0;34m,\u001b[0m \u001b[0maxis\u001b[0m\u001b[0;34m,\u001b[0m \u001b[0mdtype\u001b[0m\u001b[0;34m,\u001b[0m \u001b[0mout\u001b[0m\u001b[0;34m,\u001b[0m \u001b[0;34m**\u001b[0m\u001b[0mpasskwargs\u001b[0m\u001b[0;34m)\u001b[0m\u001b[0;34m\u001b[0m\u001b[0;34m\u001b[0m\u001b[0m\n\u001b[0m\u001b[1;32m     87\u001b[0m \u001b[0;34m\u001b[0m\u001b[0m\n\u001b[1;32m     88\u001b[0m \u001b[0;34m\u001b[0m\u001b[0m\n",
      "\u001b[0;31mValueError\u001b[0m: zero-size array to reduction operation maximum which has no identity"
     ]
    },
    {
     "data": {
      "image/png": "[encoded data removed]",
      "text/plain": [
       "<Figure size 1440x864 with 9 Axes>"
      ]
     },
     "metadata": {
      "needs_background": "light"
     },
     "output_type": "display_data"
    }
   ],
   "source": [
    "fig = plot_total_flux(model, AdiabaticMSW(), AdiabaticMSW(mh=MassHierarchy.INVERTED) )\n",
    "fig.savefig('flux_adiabaticmsw.pdf')\n",
    "fig = plot_spectra(model, AdiabaticMSW(), AdiabaticMSW(mh=MassHierarchy.INVERTED), 100*u.ms)\n",
    "fig.savefig('spectra_adiabaticmsw.pdf')"
   ]
  },
  {
   "cell_type": "code",
   "execution_count": null,
   "metadata": {},
   "outputs": [],
   "source": [
    "mp_nmo = MixingParameters()\n",
    "angles_nmo = mp_nmo.get_mixing_angles() + (10*u.deg,)\n",
    "xf_nmo = AdiabaticMSWes(angles_nmo)\n",
    "\n",
    "mp_imo = MixingParameters(mh=MassHierarchy.INVERTED)\n",
    "angles_imo = mp_imo.get_mixing_angles() + (10*u.deg,)\n",
    "xf_imo = AdiabaticMSWes(angles_imo)\n",
    "\n",
    "fig = plot_total_flux(model, xf_nmo, xf_imo)\n",
    "fig.savefig('flux_adiabaticmswes.pdf')\n",
    "fig = plot_spectra(model, xf_nmo, xf_imo, 100*u.ms)\n",
    "fig.savefig('spectra_adiabaticmswes.pdf')"
   ]
  },
  {
   "cell_type": "code",
   "execution_count": null,
   "metadata": {},
   "outputs": [],
   "source": []
  }
 ],
 "metadata": {
  "interpreter": {
   "hash": "e2528887d751495e023d57d695389d9a04f4c4d2e5866aaf6dc03a1ed45c573e"
  },
  "kernelspec": {
   "display_name": "Python 3.9.5 ('snews')",
   "language": "python",
   "name": "python3"
  },
  "language_info": {
   "codemirror_mode": {
    "name": "ipython",
    "version": 3
   },
   "file_extension": ".py",
   "mimetype": "text/x-python",
   "name": "python",
   "nbconvert_exporter": "python",
   "pygments_lexer": "ipython3",
   "version": "3.9.5"
  }
 },
 "nbformat": 4,
 "nbformat_minor": 2
}
